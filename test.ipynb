{
 "cells": [
  {
   "cell_type": "code",
   "execution_count": 1,
   "metadata": {},
   "outputs": [],
   "source": [
    "from llama_index.llms.ollama import Ollama\n"
   ]
  },
  {
   "cell_type": "code",
   "execution_count": 4,
   "metadata": {},
   "outputs": [],
   "source": [
    "llm = Ollama(model=\"deepseek-r1:7b\", request_timeout=120.0)\n"
   ]
  },
  {
   "cell_type": "code",
   "execution_count": 5,
   "metadata": {},
   "outputs": [],
   "source": [
    "resp = llm.complete(\"Who is Paul Graham?\")\n"
   ]
  },
  {
   "cell_type": "code",
   "execution_count": 6,
   "metadata": {},
   "outputs": [
    {
     "data": {
      "text/plain": [
       "CompletionResponse(text='<think>\\n\\n</think>\\n\\nPaul Graham is a computer scientist, startup founder, and entrepreneur who has made significant contributions to the tech industry. He is best known for co-founding two major startups: **Rust** and **Disciple**.\\n\\n1. **Rust**: \\n   - Paul Graham co-founded Rust in 2005 with Rob Pike.\\n   - Rust is a systems programming language designed to eliminate memory errors at runtime.\\n   - It gained widespread adoption due to its unique ownership system, which allows multiple languages to share the same heap.\\n   - Rust has been praised for its performance, safety, and flexibility.\\n\\n2. **Disciple**:\\n   - Disciple is an AI-powered email filtering and personalization platform that Paul Graham co-founded in 2017 with Aron Block.\\n   - It provides a modern alternative to traditional email clients like Gmail.\\n   - The service uses machine learning to offer personalized email experiences based on user behavior.\\n\\nGraham has also been involved in various other startups and projects over his career, contributing to the tech ecosystem in different ways. He is recognized for his insights into programming languages and software development practices.', additional_kwargs={'tool_calls': []}, raw={'model': 'deepseek-r1:7b', 'created_at': '2025-03-06T13:26:55.471099226Z', 'done': True, 'done_reason': 'stop', 'total_duration': 6564861377, 'load_duration': 1491142441, 'prompt_eval_count': 8, 'prompt_eval_duration': 138000000, 'eval_count': 234, 'eval_duration': 4934000000, 'message': Message(role='assistant', content='<think>\\n\\n</think>\\n\\nPaul Graham is a computer scientist, startup founder, and entrepreneur who has made significant contributions to the tech industry. He is best known for co-founding two major startups: **Rust** and **Disciple**.\\n\\n1. **Rust**: \\n   - Paul Graham co-founded Rust in 2005 with Rob Pike.\\n   - Rust is a systems programming language designed to eliminate memory errors at runtime.\\n   - It gained widespread adoption due to its unique ownership system, which allows multiple languages to share the same heap.\\n   - Rust has been praised for its performance, safety, and flexibility.\\n\\n2. **Disciple**:\\n   - Disciple is an AI-powered email filtering and personalization platform that Paul Graham co-founded in 2017 with Aron Block.\\n   - It provides a modern alternative to traditional email clients like Gmail.\\n   - The service uses machine learning to offer personalized email experiences based on user behavior.\\n\\nGraham has also been involved in various other startups and projects over his career, contributing to the tech ecosystem in different ways. He is recognized for his insights into programming languages and software development practices.', images=None, tool_calls=None), 'usage': {'prompt_tokens': 8, 'completion_tokens': 234, 'total_tokens': 242}}, logprobs=None, delta=None)"
      ]
     },
     "execution_count": 6,
     "metadata": {},
     "output_type": "execute_result"
    }
   ],
   "source": [
    "resp"
   ]
  },
  {
   "cell_type": "code",
   "execution_count": null,
   "metadata": {},
   "outputs": [],
   "source": []
  }
 ],
 "metadata": {
  "language_info": {
   "name": "python"
  }
 },
 "nbformat": 4,
 "nbformat_minor": 2
}
